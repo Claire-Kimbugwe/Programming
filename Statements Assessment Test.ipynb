{
 "cells": [
  {
   "cell_type": "markdown",
   "metadata": {
    "collapsed": true
   },
   "source": [
    "# Statements Assessment Test\n",
    "Let's test your knowledge!"
   ]
  },
  {
   "cell_type": "markdown",
   "metadata": {},
   "source": [
    "_____\n",
    "**Use <code>for</code>, .split(), and <code>if</code> to create a Statement that will print out words that start with 's':**"
   ]
  },
  {
   "cell_type": "code",
   "execution_count": 1,
   "metadata": {},
   "outputs": [],
   "source": [
    "st = 'Print only the words that start with s in this sentence'"
   ]
  },
  {
   "cell_type": "code",
   "execution_count": 6,
   "metadata": {},
   "outputs": [
    {
     "name": "stdout",
     "output_type": "stream",
     "text": [
      "start\n",
      "s\n",
      "sentence\n"
     ]
    }
   ],
   "source": [
    "#Code here\n",
    "words =st.split(\" \")\n",
    "for word in words:\n",
    "    if word[0]=='s':\n",
    "        print(word)"
   ]
  },
  {
   "cell_type": "markdown",
   "metadata": {},
   "source": [
    "______\n",
    "**Use range() to print all the even numbers from 0 to 10.**"
   ]
  },
  {
   "cell_type": "code",
   "execution_count": 7,
   "metadata": {},
   "outputs": [
    {
     "name": "stdout",
     "output_type": "stream",
     "text": [
      "0\n",
      "2\n",
      "4\n",
      "6\n",
      "8\n",
      "10\n"
     ]
    }
   ],
   "source": [
    "#Code Here\n",
    "for i in range(0,11,2):\n",
    "    print(i)\n"
   ]
  },
  {
   "cell_type": "markdown",
   "metadata": {},
   "source": [
    "___\n",
    "**Use a List Comprehension to create a list of all numbers between 1 and 50 that are divisible by 3.**"
   ]
  },
  {
   "cell_type": "code",
   "execution_count": 8,
   "metadata": {},
   "outputs": [
    {
     "data": {
      "text/plain": [
       "[3, 6, 9, 12, 15, 18, 21, 24, 27, 30, 33, 36, 39, 42, 45, 48]"
      ]
     },
     "execution_count": 8,
     "metadata": {},
     "output_type": "execute_result"
    }
   ],
   "source": [
    "#Code in this cell\n",
    "[n for n in range(1,50) if n%3 ==0]"
   ]
  },
  {
   "cell_type": "markdown",
   "metadata": {},
   "source": [
    "_____\n",
    "**Go through the string below and if the length of a word is even print \"even!\"**"
   ]
  },
  {
   "cell_type": "code",
   "execution_count": 9,
   "metadata": {},
   "outputs": [],
   "source": [
    "st = 'Print every word in this sentence that has an even number of letters'"
   ]
  },
  {
   "cell_type": "code",
   "execution_count": 12,
   "metadata": {},
   "outputs": [
    {
     "name": "stdout",
     "output_type": "stream",
     "text": [
      "word\n",
      "in\n",
      "this\n",
      "sentence\n",
      "that\n",
      "an\n",
      "even\n",
      "number\n",
      "of\n"
     ]
    }
   ],
   "source": [
    "#Code in this cell\n",
    "words=st.split(\" \")\n",
    "for word in words:\n",
    "    if len(word) %2 ==0:\n",
    "        print(word)\n",
    "    "
   ]
  },
  {
   "cell_type": "markdown",
   "metadata": {},
   "source": [
    "____\n",
    "**Write a program that prints the integers from 1 to 100. But for multiples of three print \"Fizz\" instead of the number, and for the multiples of five print \"Buzz\". For numbers which are multiples of both three and five print \"FizzBuzz\".**"
   ]
  },
  {
   "cell_type": "code",
   "execution_count": 15,
   "metadata": {},
   "outputs": [
    {
     "name": "stdout",
     "output_type": "stream",
     "text": [
      "1\n",
      "2\n",
      "FIZZ\n",
      "3\n",
      "FIZZBIZZ\n",
      "5\n",
      "FIZZ\n",
      "6\n",
      "7\n",
      "FIZZBIZZ\n",
      "FIZZ\n",
      "9\n",
      "10\n",
      "11\n",
      "FIZZ\n",
      "FIZZBIZZ\n",
      "13\n",
      "14\n",
      "FIZZ\n",
      "15\n",
      "FIZZBIZZ\n",
      "17\n",
      "FIZZ\n",
      "18\n",
      "19\n",
      "FIZZBIZZ\n",
      "FIZZ\n",
      "21\n",
      "22\n",
      "23\n",
      "FIZZ\n",
      "FIZZBIZZ\n",
      "25\n",
      "26\n",
      "FIZZ\n",
      "27\n",
      "FIZZBIZZ\n",
      "29\n",
      "FIZZ\n",
      "30\n",
      "31\n",
      "FIZZBIZZ\n",
      "FIZZ\n",
      "33\n",
      "34\n",
      "35\n",
      "FIZZ\n",
      "FIZZBIZZ\n",
      "37\n",
      "38\n",
      "FIZZ\n",
      "39\n",
      "FIZZBIZZ\n",
      "41\n",
      "FIZZ\n",
      "42\n",
      "43\n",
      "FIZZBIZZ\n",
      "FIZZ\n",
      "45\n",
      "46\n",
      "47\n",
      "FIZZ\n",
      "FIZZBIZZ\n",
      "49\n",
      "50\n",
      "FIZZ\n",
      "51\n",
      "FIZZBIZZ\n",
      "53\n",
      "FIZZ\n",
      "54\n",
      "55\n",
      "FIZZBIZZ\n",
      "FIZZ\n",
      "57\n",
      "58\n",
      "59\n",
      "FIZZ\n",
      "FIZZBIZZ\n",
      "61\n",
      "62\n",
      "FIZZ\n",
      "63\n",
      "FIZZBIZZ\n",
      "65\n",
      "FIZZ\n",
      "66\n",
      "67\n",
      "FIZZBIZZ\n",
      "FIZZ\n",
      "69\n",
      "70\n",
      "71\n",
      "FIZZ\n",
      "FIZZBIZZ\n",
      "73\n",
      "74\n",
      "FIZZ\n",
      "75\n",
      "FIZZBIZZ\n",
      "77\n",
      "FIZZ\n",
      "78\n",
      "79\n",
      "FIZZBIZZ\n",
      "FIZZ\n",
      "81\n",
      "82\n",
      "83\n",
      "FIZZ\n",
      "FIZZBIZZ\n",
      "85\n",
      "86\n",
      "FIZZ\n",
      "87\n",
      "FIZZBIZZ\n",
      "89\n",
      "FIZZ\n",
      "90\n",
      "91\n",
      "FIZZBIZZ\n",
      "FIZZ\n",
      "93\n",
      "94\n",
      "95\n",
      "FIZZ\n",
      "FIZZBIZZ\n",
      "97\n",
      "98\n",
      "FIZZ\n",
      "99\n",
      "FIZZBIZZ\n"
     ]
    }
   ],
   "source": [
    "#Code in this cell\n",
    "for i in range(1,101):\n",
    "    if i%3==0:\n",
    "        print(\"FIZZ\")\n",
    "    if i%4 ==0:\n",
    "        print(\"FIZZBIZZ\")\n",
    "    else:\n",
    "        print(i)"
   ]
  },
  {
   "cell_type": "markdown",
   "metadata": {},
   "source": [
    "____\n",
    "**Use List Comprehension to create a list of the first letters of every word in the string below:**"
   ]
  },
  {
   "cell_type": "code",
   "execution_count": 16,
   "metadata": {},
   "outputs": [],
   "source": [
    "st = 'Create a list of the first letters of every word in this string'"
   ]
  },
  {
   "cell_type": "code",
   "execution_count": 20,
   "metadata": {},
   "outputs": [
    {
     "data": {
      "text/plain": [
       "['C', 'a', 'l', 'o', 't', 'f', 'l', 'o', 'e', 'w', 'i', 't', 's']"
      ]
     },
     "execution_count": 20,
     "metadata": {},
     "output_type": "execute_result"
    }
   ],
   "source": [
    "#Code in this cell\n",
    "words=st.split(\" \")\n",
    "[word[0] for word in words]"
   ]
  },
  {
   "cell_type": "markdown",
   "metadata": {},
   "source": [
    "### Great Job!"
   ]
  }
 ],
 "metadata": {
  "kernelspec": {
   "display_name": "Python 3",
   "language": "python",
   "name": "python3"
  },
  "language_info": {
   "codemirror_mode": {
    "name": "ipython",
    "version": 3
   },
   "file_extension": ".py",
   "mimetype": "text/x-python",
   "name": "python",
   "nbconvert_exporter": "python",
   "pygments_lexer": "ipython3",
   "version": "3.6.5"
  }
 },
 "nbformat": 4,
 "nbformat_minor": 1
}
