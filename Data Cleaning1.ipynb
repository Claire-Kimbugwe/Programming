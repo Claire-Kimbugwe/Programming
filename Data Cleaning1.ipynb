{
 "cells": [
  {
   "cell_type": "markdown",
   "metadata": {},
   "source": [
    "# Survey Data Project\n",
    "\n",
    "### NO DATAMINING. THEORY FIRST\n",
    "\n",
    "### Goal 1. Finish the data cleaning process\n",
    " 1. Remove duplicates\n",
    " 2. Remove logically inconsistent Reponses ( Null the housing safety responses for people not housed by shelter inc. + those in tabora gardens) \n",
    " 3. Don’t worry about imputation.\n",
    " 4. Segment the data by disability and education level to test hypothesis that these groups perform differently.\n",
    " 5. Segment the data by program.\n",
    "\n",
    "### Questions to focus on: \n",
    "1.\tWhat could shelter inc do better. \n",
    "    * Find the most common requests\n",
    "2.\tHave you written down goals with your case manager? \n",
    "    * Maybe combined with have you seen your case manager in last month\n",
    "    * Are case managers doing their jobs?\n",
    "3.\tHow long have you been with your current program\n",
    "\t* Identify the trends\n",
    "    * Laurel said they were most positive in the middle. Why? "
   ]
  },
  {
   "cell_type": "code",
   "execution_count": 2,
   "metadata": {},
   "outputs": [],
   "source": [
    "import pandas as pd\n",
    "import numpy as np\n",
    "import os"
   ]
  },
  {
   "cell_type": "code",
   "execution_count": 3,
   "metadata": {},
   "outputs": [
    {
     "data": {
      "text/plain": [
       "'C:\\\\Users\\\\claire muwanguzi\\\\Desktop\\\\New folder'"
      ]
     },
     "execution_count": 3,
     "metadata": {},
     "output_type": "execute_result"
    }
   ],
   "source": [
    "os.getcwd()"
   ]
  },
  {
   "cell_type": "code",
   "execution_count": 13,
   "metadata": {},
   "outputs": [
    {
     "name": "stdout",
     "output_type": "stream",
     "text": [
      "(162, 46)\n"
     ]
    }
   ],
   "source": [
    "dt=pd.read_excel(\"surveyian.xlsx\")"
   ]
  },
  {
   "cell_type": "code",
   "execution_count": 21,
   "metadata": {},
   "outputs": [
    {
     "name": "stdout",
     "output_type": "stream",
     "text": [
      "(162, 46)\n"
     ]
    }
   ],
   "source": [
    "print(dt.shape) "
   ]
  },
  {
   "cell_type": "code",
   "execution_count": 17,
   "metadata": {},
   "outputs": [
    {
     "data": {
      "text/plain": [
       "Index(['R_ID', 'C_ID', 'Start', 'End', 'IP', 'Recommend', 'Good_at',\n",
       "       'Do_better', 'Met_needs', 'Respect', 'Respect_text', 'CM_1month',\n",
       "       'CM_listens', 'CM_culture', 'CM_helps', 'Safety', 'Goals_written',\n",
       "       'Goals_current', 'Goals_chose', 'Goals_reached', 'Goals_WH',\n",
       "       'Goals_believe', 'Goals_CM_helps', 'Goals_self-suff', 'CM_services',\n",
       "       'Childcare', 'Counseling', 'Education', 'Employment', 'Gov_ben',\n",
       "       'Healthcare', 'Housing', 'Legal', 'M_manage', 'DV_service', 'Sub_abuse',\n",
       "       'Other', 'Other_Text', 'Last_referred', 'program', 'Rental_assist',\n",
       "       'Disability', 'Age', 'Gender', 'Race', 'Highest_edu'],\n",
       "      dtype='object')"
      ]
     },
     "execution_count": 17,
     "metadata": {},
     "output_type": "execute_result"
    }
   ],
   "source": [
    "dt.columns #the comments didn't affect the column titles"
   ]
  },
  {
   "cell_type": "code",
   "execution_count": 30,
   "metadata": {},
   "outputs": [
    {
     "data": {
      "text/plain": [
       "array(['Yes', 'No', 'I meet with my Case Manager at least once a month.'],\n",
       "      dtype=object)"
      ]
     },
     "execution_count": 30,
     "metadata": {},
     "output_type": "execute_result"
    }
   ],
   "source": [
    "dt['CM_listens'].unique()"
   ]
  },
  {
   "cell_type": "code",
   "execution_count": 31,
   "metadata": {},
   "outputs": [
    {
     "data": {
      "text/plain": [
       "array(['Yes', 'No',\n",
       "       'My Case Manager listens to my questions and concerns.'],\n",
       "      dtype=object)"
      ]
     },
     "execution_count": 31,
     "metadata": {},
     "output_type": "execute_result"
    }
   ],
   "source": [
    "dt[ 'CM_culture'].unique()"
   ]
  },
  {
   "cell_type": "code",
   "execution_count": 18,
   "metadata": {},
   "outputs": [
    {
     "name": "stdout",
     "output_type": "stream",
     "text": [
      "<class 'pandas.core.frame.DataFrame'>\n",
      "RangeIndex: 162 entries, 0 to 161\n",
      "Data columns (total 46 columns):\n",
      "R_ID               161 non-null float64\n",
      "C_ID               161 non-null float64\n",
      "Start              161 non-null datetime64[ns]\n",
      "End                161 non-null datetime64[ns]\n",
      "IP                 161 non-null object\n",
      "Recommend          157 non-null object\n",
      "Good_at            162 non-null object\n",
      "Do_better          159 non-null object\n",
      "Met_needs          160 non-null object\n",
      "Respect            160 non-null object\n",
      "Respect_text       146 non-null object\n",
      "CM_1month          161 non-null object\n",
      "CM_listens         162 non-null object\n",
      "CM_culture         162 non-null object\n",
      "CM_helps           162 non-null object\n",
      "Safety             162 non-null object\n",
      "Goals_written      160 non-null object\n",
      "Goals_current      138 non-null object\n",
      "Goals_chose        161 non-null object\n",
      "Goals_reached      161 non-null object\n",
      "Goals_WH           161 non-null object\n",
      "Goals_believe      161 non-null object\n",
      "Goals_CM_helps     161 non-null object\n",
      "Goals_self-suff    161 non-null object\n",
      "CM_services        158 non-null object\n",
      "Childcare          161 non-null object\n",
      "Counseling         161 non-null object\n",
      "Education          161 non-null object\n",
      "Employment         161 non-null object\n",
      "Gov_ben            161 non-null object\n",
      "Healthcare         161 non-null object\n",
      "Housing            161 non-null object\n",
      "Legal              161 non-null object\n",
      "M_manage           161 non-null object\n",
      "DV_service         161 non-null object\n",
      "Sub_abuse          161 non-null object\n",
      "Other              161 non-null object\n",
      "Other_Text         17 non-null object\n",
      "Last_referred      134 non-null object\n",
      "program            157 non-null object\n",
      "Rental_assist      157 non-null object\n",
      "Disability         156 non-null object\n",
      "Age                153 non-null object\n",
      "Gender             155 non-null object\n",
      "Race               156 non-null object\n",
      "Highest_edu        156 non-null object\n",
      "dtypes: datetime64[ns](2), float64(2), object(42)\n",
      "memory usage: 58.3+ KB\n"
     ]
    }
   ],
   "source": [
    " dt.info()"
   ]
  },
  {
   "cell_type": "code",
   "execution_count": null,
   "metadata": {},
   "outputs": [],
   "source": [
    "dt[\"city\"]= dt.apply(lamda x: )"
   ]
  },
  {
   "cell_type": "code",
   "execution_count": 34,
   "metadata": {},
   "outputs": [
    {
     "ename": "ModuleNotFoundError",
     "evalue": "No module named 'geolite2'",
     "output_type": "error",
     "traceback": [
      "\u001b[1;31m---------------------------------------------------------------------------\u001b[0m",
      "\u001b[1;31mModuleNotFoundError\u001b[0m                       Traceback (most recent call last)",
      "\u001b[1;32m<ipython-input-34-56f718841170>\u001b[0m in \u001b[0;36m<module>\u001b[1;34m()\u001b[0m\n\u001b[0;32m      1\u001b[0m \u001b[1;32mimport\u001b[0m \u001b[0mpandas\u001b[0m \u001b[1;32mas\u001b[0m \u001b[0mpd\u001b[0m\u001b[1;33m\u001b[0m\u001b[0m\n\u001b[1;32m----> 2\u001b[1;33m \u001b[1;32mfrom\u001b[0m \u001b[0mgeolite2\u001b[0m \u001b[1;32mimport\u001b[0m \u001b[0mgeolite2\u001b[0m\u001b[1;33m\u001b[0m\u001b[0m\n\u001b[0m\u001b[0;32m      3\u001b[0m \u001b[1;33m\u001b[0m\u001b[0m\n\u001b[0;32m      4\u001b[0m \u001b[1;32mdef\u001b[0m \u001b[0mget_country\u001b[0m\u001b[1;33m(\u001b[0m\u001b[0mip\u001b[0m\u001b[1;33m)\u001b[0m\u001b[1;33m:\u001b[0m\u001b[1;33m\u001b[0m\u001b[0m\n\u001b[0;32m      5\u001b[0m     \u001b[1;32mtry\u001b[0m\u001b[1;33m:\u001b[0m\u001b[1;33m\u001b[0m\u001b[0m\n",
      "\u001b[1;31mModuleNotFoundError\u001b[0m: No module named 'geolite2'"
     ]
    }
   ],
   "source": [
    "import pandas as pd\n",
    "from geolite2 import geolite2\n",
    "\n",
    "def get_city(ip):\n",
    "    try:\n",
    "        x = geo.get(ip)\n",
    "    except ValueError:\n",
    "        return pd.np.nan\n",
    "    try:\n",
    "        return x['city']['names']['en'] if x else pd.np.nan\n",
    "    except KeyError:\n",
    "        return pd.np.nan\n",
    "\n",
    "geo = geolite2.reader()\n",
    "\n",
    "# it took me quite some time to find a free and large enough list of IPs ;)\n",
    "# IP's for testing: http://upd.emule-security.org/ipfilter.zip\n",
    "x = pd.read_csv(r'D:\\download\\ipfilter.zip',\n",
    "                usecols=[0], sep='\\s*\\-\\s*',\n",
    "                header=None, names=['ip'])\n",
    "\n",
    "# get unique IPs\n",
    "unique_ips = x['ip'].unique()\n",
    "# make series out of it\n",
    "unique_ips = pd.Series(unique_ips, index = unique_ips)\n",
    "# map IP --> country\n",
    "x['city'] = x['ip'].map(unique_ips.apply(get_country))\n",
    "\n",
    "geolite2.close()"
   ]
  },
  {
   "cell_type": "code",
   "execution_count": null,
   "metadata": {},
   "outputs": [],
   "source": []
  }
 ],
 "metadata": {
  "kernelspec": {
   "display_name": "Python 3",
   "language": "python",
   "name": "python3"
  },
  "language_info": {
   "codemirror_mode": {
    "name": "ipython",
    "version": 3
   },
   "file_extension": ".py",
   "mimetype": "text/x-python",
   "name": "python",
   "nbconvert_exporter": "python",
   "pygments_lexer": "ipython3",
   "version": "3.6.5"
  }
 },
 "nbformat": 4,
 "nbformat_minor": 2
}
