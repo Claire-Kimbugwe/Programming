{
 "cells": [
  {
   "cell_type": "code",
   "execution_count": 99,
   "metadata": {},
   "outputs": [],
   "source": [
    "import datetime as dt\n",
    "\n",
    "#create a class\n",
    "class shelter:\n",
    "\n",
    "#initializer    \n",
    "    sal_raise =1\n",
    "    count_emps =0\n",
    "    \n",
    "    \n",
    "    def __init__(self,ln,fn,age,salary):\n",
    "        self.ln = ln\n",
    "        self.fn= fn\n",
    "        self.age=age\n",
    "        self.salary=salary\n",
    "        shelter.count_emps += 1\n",
    "        \n",
    "    @classmethod\n",
    "    def new_pay(cls,amt):\n",
    "        cls.new_salary = amt\n",
    "        return cls.new_salary\n",
    "    \n",
    "    def raise_sal(self):\n",
    "        self.salary=self.salary +(self.salary * 0.15) \n",
    "        return self.salary\n",
    "    \n",
    "    def fullname(self):\n",
    "        return self.fn+\" \" + self.ln\n",
    "    \n",
    "#use class method as alternative constructor\n",
    "    @classmethod\n",
    "    def from_strg(cls,strg):\n",
    "        ln,fn,age,salary =strg.split('.')\n",
    "        return cls(ln,fn,age,salary)\n",
    "    \n",
    "\n",
    "#static methods, they do not use the class or instance but are somehow connected to the class    \n",
    "    @staticmethod\n",
    "    def work_day(day):\n",
    "        if day.weekday() in (5,6):\n",
    "            return False\n",
    "        else:\n",
    "            return True\n",
    "        \n",
    "    \n",
    "# Instatiate ojects       \n",
    "sh1=shelter(\"kii\",'kim',22,40000) \n",
    "sh2=shelter(\"buk\",'bugre',32,20000)\n",
    "sh3=shelter(\"mine\",'dire',42,60000) \n",
    "sh4=shelter(\"mike\",'blaire',52,80000)        "
   ]
  },
  {
   "cell_type": "code",
   "execution_count": 83,
   "metadata": {},
   "outputs": [
    {
     "data": {
      "text/plain": [
       "({'ln': 'kii', 'fn': 'kim', 'age': 22, 'salary': 40000},\n",
       " {'ln': 'mike', 'fn': 'blaire', 'age': 52, 'salary': 80000})"
      ]
     },
     "execution_count": 83,
     "metadata": {},
     "output_type": "execute_result"
    }
   ],
   "source": [
    "#see of objects were creates\n",
    "sh1.__dict__,sh4.__dict__"
   ]
  },
  {
   "cell_type": "code",
   "execution_count": 84,
   "metadata": {},
   "outputs": [
    {
     "data": {
      "text/plain": [
       "4"
      ]
     },
     "execution_count": 84,
     "metadata": {},
     "output_type": "execute_result"
    }
   ],
   "source": [
    "#number of records\n",
    "shelter.count_emps"
   ]
  },
  {
   "cell_type": "code",
   "execution_count": 85,
   "metadata": {},
   "outputs": [
    {
     "data": {
      "text/plain": [
       "46000.0"
      ]
     },
     "execution_count": 85,
     "metadata": {},
     "output_type": "execute_result"
    }
   ],
   "source": [
    "#raise salary for sh1\n",
    "shelter.raise_sal(sh1)"
   ]
  },
  {
   "cell_type": "code",
   "execution_count": 86,
   "metadata": {},
   "outputs": [
    {
     "data": {
      "text/plain": [
       "(65124, 65124, 65124)"
      ]
     },
     "execution_count": 86,
     "metadata": {},
     "output_type": "execute_result"
    }
   ],
   "source": [
    "#change salary using the functions\n",
    "shelter.new_pay(65124),sh2.new_salary,sh1.new_salary"
   ]
  },
  {
   "cell_type": "code",
   "execution_count": 87,
   "metadata": {},
   "outputs": [
    {
     "data": {
      "text/plain": [
       "'kim kii'"
      ]
     },
     "execution_count": 87,
     "metadata": {},
     "output_type": "execute_result"
    }
   ],
   "source": [
    "shelter.fullname(sh1)"
   ]
  },
  {
   "cell_type": "code",
   "execution_count": 90,
   "metadata": {},
   "outputs": [],
   "source": [
    "#use alternative constructor to add aobjects\n",
    "da1='me.cla.12.23000'\n",
    "dat2='de.nacy.25.36000'\n",
    "\n",
    "sh5=shelter.from_strg(da1)\n",
    "sh6=shelter.from_strg(dat2)"
   ]
  },
  {
   "cell_type": "code",
   "execution_count": 91,
   "metadata": {},
   "outputs": [
    {
     "data": {
      "text/plain": [
       "{'ln': 'de', 'fn': 'nacy', 'age': '25', 'salary': '36000'}"
      ]
     },
     "execution_count": 91,
     "metadata": {},
     "output_type": "execute_result"
    }
   ],
   "source": [
    "#check on additions\n",
    "sh6.__dict__"
   ]
  },
  {
   "cell_type": "code",
   "execution_count": 103,
   "metadata": {},
   "outputs": [
    {
     "data": {
      "text/plain": [
       "True"
      ]
     },
     "execution_count": 103,
     "metadata": {},
     "output_type": "execute_result"
    }
   ],
   "source": [
    "# Is it a working day?\n",
    "date1=dt.date(2018,5,10)\n",
    "shelter.work_day(date1)"
   ]
  },
  {
   "cell_type": "markdown",
   "metadata": {},
   "source": [
    "# Inheritance"
   ]
  },
  {
   "cell_type": "code",
   "execution_count": 178,
   "metadata": {},
   "outputs": [],
   "source": [
    "class managers(shelter):\n",
    "    def __init__(self,ln,fn,age,salary,title,employees=None):\n",
    "        super().__init__(ln,fn,age,salary)\n",
    "        self.title=title\n",
    "        if employees is None:\n",
    "            self.employees = []\n",
    "        else:\n",
    "            self.employees = employees\n",
    "            \n",
    "    def add_emp(self,emp):\n",
    "        if emp not in self.employees:\n",
    "            self.employees.append(emp)\n",
    "            \n",
    "    def remove_emp(self,emp):\n",
    "        if emp in self.employees:\n",
    "            self.employees.remove(emp)\n",
    "            \n",
    "    def __repr__(self):\n",
    "        a= \"managers('{}' ,'{}','{}')\".format(self.ln,self.fn,self.age)\n",
    "        return a\n",
    "    def __str__(self):\n",
    "        return self.ln + self.fn \n",
    "    \n",
    "            \n",
    "    def print_emps(self):\n",
    "        for i in self.employees:\n",
    "            print(i.fullname())\n",
    "    \n",
    "man1=managers('lol','kabuyo',56,10000,'looser')"
   ]
  },
  {
   "cell_type": "code",
   "execution_count": 165,
   "metadata": {},
   "outputs": [],
   "source": [
    "man1.add_emp(sh1)\n",
    "man1.add_emp(sh2)"
   ]
  },
  {
   "cell_type": "code",
   "execution_count": 166,
   "metadata": {},
   "outputs": [
    {
     "name": "stdout",
     "output_type": "stream",
     "text": [
      "kim kii\n",
      "bugre buk\n"
     ]
    }
   ],
   "source": [
    "man1.print_emps()"
   ]
  },
  {
   "cell_type": "markdown",
   "metadata": {},
   "source": [
    "# Magic Methods \n",
    "repr,str,sub,add,len ets"
   ]
  },
  {
   "cell_type": "code",
   "execution_count": 184,
   "metadata": {},
   "outputs": [],
   "source": [
    "import datetime as dt\n",
    "\n",
    "#create a class\n",
    "class shelter:\n",
    "\n",
    "#initializer    \n",
    "    sal_raise =1\n",
    "    count_emps =0\n",
    "    \n",
    "    \n",
    "    def __init__(self,ln,fn,age,salary):\n",
    "        self.ln = ln\n",
    "        self.fn= fn\n",
    "        self.age=age\n",
    "        self.salary=salary\n",
    "        shelter.count_emps += 1\n",
    "        \n",
    "    @classmethod\n",
    "    def new_pay(cls,amt):\n",
    "        cls.new_salary = amt\n",
    "        return cls.new_salary\n",
    "    \n",
    "    def raise_sal(self):\n",
    "        self.salary=self.salary +(self.salary * 0.15) \n",
    "        return self.salary\n",
    "    \n",
    "    def fullname(self):\n",
    "        return self.fn+\" \" + self.ln\n",
    "    \n",
    "#use class method as alternative constructor\n",
    "    @classmethod\n",
    "    def from_strg(cls,strg):\n",
    "        ln,fn,age,salary =strg.split('.')\n",
    "        return cls(ln,fn,age,salary)\n",
    "    \n",
    "\n",
    "#static methods, they do not use the class or instance but are somehow connected to the class    \n",
    "    @staticmethod\n",
    "    def work_day(day):\n",
    "        if day.weekday() in (5,6):\n",
    "            return False\n",
    "        else:\n",
    "            return True\n",
    "        \n",
    "    def __repr__(self):\n",
    "        return \"shelter('{}','{}','{}')\".format(self.ln,self.fn,self.age)\n",
    "    def __str__(self):\n",
    "        return self.ln + \"  \" + self.fn\n",
    "    \n",
    "    def __add__(self,other): #this will add employee ages if you use the add symbol\n",
    "        return self.age + other.age\n",
    "        \n",
    "        \n",
    "# Instatiate ojects       \n",
    "sh1=shelter(\"kii\",'kim',22,40000) \n",
    "sh2=shelter(\"buk\",'bugre',32,20000)\n",
    "sh3=shelter(\"mine\",'dire',42,60000) \n",
    "sh4=shelter(\"mike\",'blaire',52,80000)        \n",
    "        "
   ]
  },
  {
   "cell_type": "code",
   "execution_count": 179,
   "metadata": {},
   "outputs": [
    {
     "data": {
      "text/plain": [
       "(\"shelter('kii','kim','22')\", \"managers('lol' ,'kabuyo','56')\")"
      ]
     },
     "execution_count": 179,
     "metadata": {},
     "output_type": "execute_result"
    }
   ],
   "source": [
    "repr(sh1),repr(man1)"
   ]
  },
  {
   "cell_type": "code",
   "execution_count": 181,
   "metadata": {},
   "outputs": [
    {
     "name": "stdout",
     "output_type": "stream",
     "text": [
      "lolkabuyo\n"
     ]
    },
    {
     "data": {
      "text/plain": [
       "('lolkabuyo', 'kii  kim', None)"
      ]
     },
     "execution_count": 181,
     "metadata": {},
     "output_type": "execute_result"
    }
   ],
   "source": [
    "str(man1),str(sh1), #you can get this by printing"
   ]
  },
  {
   "cell_type": "code",
   "execution_count": 182,
   "metadata": {},
   "outputs": [
    {
     "name": "stdout",
     "output_type": "stream",
     "text": [
      "kii  kim\n"
     ]
    }
   ],
   "source": [
    "print(sh1) #when you print you get the __str__method ,"
   ]
  },
  {
   "cell_type": "code",
   "execution_count": 183,
   "metadata": {},
   "outputs": [
    {
     "name": "stdout",
     "output_type": "stream",
     "text": [
      "lolkabuyo\n"
     ]
    }
   ],
   "source": [
    "print(man1)"
   ]
  },
  {
   "cell_type": "code",
   "execution_count": 185,
   "metadata": {},
   "outputs": [
    {
     "data": {
      "text/plain": [
       "54"
      ]
     },
     "execution_count": 185,
     "metadata": {},
     "output_type": "execute_result"
    }
   ],
   "source": [
    "sh1 + sh2 #example out put"
   ]
  },
  {
   "cell_type": "code",
   "execution_count": 186,
   "metadata": {},
   "outputs": [],
   "source": [
    "class clare:\n",
    "    kids =[]\n",
    "    def __init__(self,kids):\n",
    "        self.kids =kids\n",
    "    "
   ]
  },
  {
   "cell_type": "code",
   "execution_count": 187,
   "metadata": {},
   "outputs": [],
   "source": [
    "my_kids = [shelter(\"kii\",'kim',22,40000),shelter(\"buk\",'bugre',32,20000),shelter(\"mine\",'dire',42,60000) ,\n",
    "           shelter(\"mike\",'blaire',52,80000)]"
   ]
  },
  {
   "cell_type": "code",
   "execution_count": 188,
   "metadata": {},
   "outputs": [
    {
     "name": "stdout",
     "output_type": "stream",
     "text": [
      "I have 4 children\n"
     ]
    }
   ],
   "source": [
    "print(\"I have {} children\".format(len(my_kids)))"
   ]
  },
  {
   "cell_type": "code",
   "execution_count": 190,
   "metadata": {},
   "outputs": [
    {
     "name": "stdout",
     "output_type": "stream",
     "text": [
      "kii is 22 years old\n",
      "buk is 32 years old\n",
      "mine is 42 years old\n",
      "mike is 52 years old\n"
     ]
    }
   ],
   "source": [
    "for i in my_kids:\n",
    "    print('{} is {} years old'.format(i.ln,i.age))"
   ]
  },
  {
   "cell_type": "markdown",
   "metadata": {},
   "source": [
    "## Property Decorators\n",
    "* property- allows you to use a method as an attributs, e.d man1.fullname, instead of man1.fullname()\n",
    "* setter -allows you to rename a value created by a property formula eg ma1.fullname =\"claire Muwang\""
   ]
  },
  {
   "cell_type": "code",
   "execution_count": 204,
   "metadata": {},
   "outputs": [],
   "source": [
    " class deco:\n",
    "        def __init__(self,ln,fn):\n",
    "            self.ln = ln\n",
    "            self.fn= fn\n",
    "        \n",
    "        @property\n",
    "        def email(self):\n",
    "            return \"{}.{}@email.com\".format(self.fn,self.ln)\n",
    "        \n",
    "        @property\n",
    "        def fullname(self):\n",
    "            return self.fn+\" \" + self.ln\n",
    "        \n",
    "        @fullname.setter\n",
    "        def fullname(self,name):\n",
    "            fn,ln =name.split(\" \")\n",
    "            self.fn=fn\n",
    "            self.ln=ln\n",
    "            return '{} {}'.format(self.fn,self.ln)\n",
    "        \n",
    "#instatiate    \n",
    "deco1=deco('larry','latest')\n",
    "deco2=deco('claire','ian')"
   ]
  },
  {
   "cell_type": "code",
   "execution_count": 205,
   "metadata": {},
   "outputs": [
    {
     "data": {
      "text/plain": [
       "('latest larry', 'ian claire')"
      ]
     },
     "execution_count": 205,
     "metadata": {},
     "output_type": "execute_result"
    }
   ],
   "source": [
    "deco1.fullname , deco2.fullname"
   ]
  },
  {
   "cell_type": "code",
   "execution_count": 206,
   "metadata": {},
   "outputs": [],
   "source": [
    "deco1.fullname =\"jane kim\""
   ]
  },
  {
   "cell_type": "code",
   "execution_count": 207,
   "metadata": {},
   "outputs": [
    {
     "data": {
      "text/plain": [
       "'jane kim'"
      ]
     },
     "execution_count": 207,
     "metadata": {},
     "output_type": "execute_result"
    }
   ],
   "source": [
    "deco1.fullname"
   ]
  },
  {
   "cell_type": "code",
   "execution_count": null,
   "metadata": {},
   "outputs": [],
   "source": []
  }
 ],
 "metadata": {
  "kernelspec": {
   "display_name": "Python 3",
   "language": "python",
   "name": "python3"
  },
  "language_info": {
   "codemirror_mode": {
    "name": "ipython",
    "version": 3
   },
   "file_extension": ".py",
   "mimetype": "text/x-python",
   "name": "python",
   "nbconvert_exporter": "python",
   "pygments_lexer": "ipython3",
   "version": "3.6.5"
  }
 },
 "nbformat": 4,
 "nbformat_minor": 2
}
